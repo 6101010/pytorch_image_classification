{
  "nbformat": 4,
  "nbformat_minor": 0,
  "metadata": {
    "colab": {
      "provenance": [],
      "authorship_tag": "ABX9TyNGq5j36YR06B2BL7JP7zUF",
      "include_colab_link": true
    },
    "kernelspec": {
      "name": "python3",
      "display_name": "Python 3"
    },
    "language_info": {
      "name": "python"
    }
  },
  "cells": [
    {
      "cell_type": "markdown",
      "metadata": {
        "id": "view-in-github",
        "colab_type": "text"
      },
      "source": [
        "<a href=\"https://colab.research.google.com/github/6101010/pytorch_image_classification/blob/master/Untitled11.ipynb\" target=\"_parent\"><img src=\"https://colab.research.google.com/assets/colab-badge.svg\" alt=\"Open In Colab\"/></a>"
      ]
    },
    {
      "cell_type": "code",
      "execution_count": null,
      "metadata": {
        "id": "IhjiCqAVXC3r"
      },
      "outputs": [],
      "source": [
        "!pip install -q efficientnet_pytorch"
      ]
    },
    {
      "cell_type": "code",
      "source": [
        "!pip install -U albumentations\n",
        "# System\n",
        "import cv2\n",
        "import os, os.path\n",
        "from PIL import Image              # from RBG to YCbCr\n",
        "import gc\n",
        "import time\n",
        "import datetime\n",
        "\n",
        "# Basics\n",
        "import pandas as pd\n",
        "import numpy as np\n",
        "import random\n",
        "import seaborn as sns\n",
        "import matplotlib\n",
        "import matplotlib.pyplot as plt\n",
        "import matplotlib.image as mpimg    # to check images\n",
        "# %matplotlib inline\n",
        "from tqdm.notebook import tqdm      # beautiful progression bar\n",
        "\n",
        "# SKlearn\n",
        "from sklearn.model_selection import StratifiedKFold, GroupKFold\n",
        "from sklearn.metrics import accuracy_score, roc_auc_score, confusion_matrix\n",
        "from sklearn.preprocessing import LabelEncoder\n",
        "from sklearn.preprocessing import OneHotEncoder\n",
        "from sklearn import preprocessing\n",
        "\n",
        "# PyTorch\n",
        "import torch\n",
        "import torchvision\n",
        "import torch.nn as nn\n",
        "import torch.nn.functional as F\n",
        "from torch import FloatTensor, LongTensor\n",
        "from torch.utils.data import Dataset, DataLoader, Subset\n",
        "from torch.optim.lr_scheduler import ReduceLROnPlateau\n",
        "\n",
        "# Data Augmentation for Image Preprocessing\n",
        "from albumentations import (ToFloat, Normalize, VerticalFlip, HorizontalFlip, Compose, Resize,\n",
        "                            RandomBrightnessContrast, HueSaturationValue, Blur, GaussNoise,\n",
        "                            Rotate, RandomResizedCrop, cutout, ShiftScaleRotate)\n",
        "from albumentations.pytorch.transforms import ToTensorV2\n",
        "\n",
        "from efficientnet_pytorch import EfficientNet\n",
        "from torchvision.models import resnet34, resnet50\n",
        "\n",
        "import warnings\n",
        "warnings.filterwarnings(\"ignore\")"
      ],
      "metadata": {
        "colab": {
          "base_uri": "https://localhost:8080/"
        },
        "id": "VynXKZosXMjF",
        "outputId": "3c8683dd-12aa-456b-b8c6-c6530d8f0a1b"
      },
      "execution_count": null,
      "outputs": [
        {
          "output_type": "stream",
          "name": "stdout",
          "text": [
            "Requirement already satisfied: albumentations in /usr/local/lib/python3.10/dist-packages (1.4.20)\n",
            "Collecting albumentations\n",
            "  Downloading albumentations-1.4.24-py3-none-any.whl.metadata (37 kB)\n",
            "Requirement already satisfied: numpy>=1.24.4 in /usr/local/lib/python3.10/dist-packages (from albumentations) (1.26.4)\n",
            "Requirement already satisfied: scipy>=1.10.0 in /usr/local/lib/python3.10/dist-packages (from albumentations) (1.13.1)\n",
            "Requirement already satisfied: PyYAML in /usr/local/lib/python3.10/dist-packages (from albumentations) (6.0.2)\n",
            "Requirement already satisfied: pydantic>=2.9.2 in /usr/local/lib/python3.10/dist-packages (from albumentations) (2.10.3)\n",
            "Collecting albucore==0.0.23 (from albumentations)\n",
            "  Downloading albucore-0.0.23-py3-none-any.whl.metadata (5.3 kB)\n",
            "Requirement already satisfied: opencv-python-headless>=4.9.0.80 in /usr/local/lib/python3.10/dist-packages (from albumentations) (4.10.0.84)\n",
            "Requirement already satisfied: stringzilla>=3.10.4 in /usr/local/lib/python3.10/dist-packages (from albucore==0.0.23->albumentations) (3.11.1)\n",
            "Collecting simsimd>=5.9.2 (from albucore==0.0.23->albumentations)\n",
            "  Downloading simsimd-6.2.1-cp310-cp310-manylinux_2_28_x86_64.whl.metadata (66 kB)\n",
            "\u001b[2K     \u001b[90m━━━━━━━━━━━━━━━━━━━━━━━━━━━━━━━━━━━━━━━━\u001b[0m \u001b[32m66.0/66.0 kB\u001b[0m \u001b[31m3.0 MB/s\u001b[0m eta \u001b[36m0:00:00\u001b[0m\n",
            "\u001b[?25hRequirement already satisfied: annotated-types>=0.6.0 in /usr/local/lib/python3.10/dist-packages (from pydantic>=2.9.2->albumentations) (0.7.0)\n",
            "Requirement already satisfied: pydantic-core==2.27.1 in /usr/local/lib/python3.10/dist-packages (from pydantic>=2.9.2->albumentations) (2.27.1)\n",
            "Requirement already satisfied: typing-extensions>=4.12.2 in /usr/local/lib/python3.10/dist-packages (from pydantic>=2.9.2->albumentations) (4.12.2)\n",
            "Downloading albumentations-1.4.24-py3-none-any.whl (274 kB)\n",
            "\u001b[2K   \u001b[90m━━━━━━━━━━━━━━━━━━━━━━━━━━━━━━━━━━━━━━━━\u001b[0m \u001b[32m274.9/274.9 kB\u001b[0m \u001b[31m10.6 MB/s\u001b[0m eta \u001b[36m0:00:00\u001b[0m\n",
            "\u001b[?25hDownloading albucore-0.0.23-py3-none-any.whl (14 kB)\n",
            "Downloading simsimd-6.2.1-cp310-cp310-manylinux_2_28_x86_64.whl (632 kB)\n",
            "\u001b[2K   \u001b[90m━━━━━━━━━━━━━━━━━━━━━━━━━━━━━━━━━━━━━━━━\u001b[0m \u001b[32m632.7/632.7 kB\u001b[0m \u001b[31m21.9 MB/s\u001b[0m eta \u001b[36m0:00:00\u001b[0m\n",
            "\u001b[?25hInstalling collected packages: simsimd, albucore, albumentations\n",
            "  Attempting uninstall: albucore\n",
            "    Found existing installation: albucore 0.0.19\n",
            "    Uninstalling albucore-0.0.19:\n",
            "      Successfully uninstalled albucore-0.0.19\n",
            "  Attempting uninstall: albumentations\n",
            "    Found existing installation: albumentations 1.4.20\n",
            "    Uninstalling albumentations-1.4.20:\n",
            "      Successfully uninstalled albumentations-1.4.20\n",
            "Successfully installed albucore-0.0.23 albumentations-1.4.24 simsimd-6.2.1\n"
          ]
        }
      ]
    },
    {
      "cell_type": "code",
      "source": [
        "def set_seed(seed = 1234):\n",
        "    '''Sets the seed of the entire notebook so results are the same every time we run.\n",
        "    This is for REPRODUCIBILITY.'''\n",
        "    np.random.seed(seed)\n",
        "    random.seed(seed)\n",
        "    torch.manual_seed(seed)\n",
        "    torch.cuda.manual_seed(seed)\n",
        "    # When running on the CuDNN backend, two further options must be set\n",
        "    torch.backends.cudnn.deterministic = True\n",
        "    # Set a fixed value for the hash seed\n",
        "    os.environ['PYTHONHASHSEED'] = str(seed)\n",
        "\n",
        "set_seed()\n",
        "device = torch.device('cuda' if torch.cuda.is_available() else 'cpu')\n",
        "print('Device available now:', device)"
      ],
      "metadata": {
        "colab": {
          "base_uri": "https://localhost:8080/"
        },
        "id": "w1pGeq0PXps9",
        "outputId": "0ddf8fa5-1a07-42fa-eaaa-68db8775123b"
      },
      "execution_count": null,
      "outputs": [
        {
          "output_type": "stream",
          "name": "stdout",
          "text": [
            "Device available now: cpu\n"
          ]
        }
      ]
    },
    {
      "cell_type": "code",
      "source": [
        "# ----- STATICS -----\n",
        "output_size = 3\n",
        "# -------------------"
      ],
      "metadata": {
        "id": "ihJyPwB9gx9J"
      },
      "execution_count": null,
      "outputs": []
    },
    {
      "cell_type": "code",
      "source": [
        "from google.colab import drive\n",
        "drive.mount('/content/drive')"
      ],
      "metadata": {
        "colab": {
          "base_uri": "https://localhost:8080/"
        },
        "id": "C5qg_81hhyLQ",
        "outputId": "95364823-a8b8-45dc-8ac7-1b8de975b3fb"
      },
      "execution_count": null,
      "outputs": [
        {
          "output_type": "stream",
          "name": "stdout",
          "text": [
            "Mounted at /content/drive\n"
          ]
        }
      ]
    },
    {
      "cell_type": "code",
      "source": [
        "# My Train: with imputed missing values + OHE\n",
        "my_train = pd.read_csv('/content/train.CSV')\n",
        "\n",
        "# OHE\n",
        "to_encode = ['label']\n",
        "encoded_all = []\n",
        "\n",
        "# Merge all\n",
        "train_df = pd.read_csv('train.CSV')\n",
        "\n",
        "# --- Read in Test data (also cleaned, imputed, OHE) ---\n",
        "test_df = pd.read_csv('/content/test.CSV')\n",
        "\n",
        "\n",
        "# Create path column to image folder for both Train and Test\n",
        "path_train = '/content/train'\n",
        "path_test = '/content/test'\n",
        "\n",
        "train_df['path_jpg'] = path_train + train_df['filename'] + '.jpg'\n",
        "test_df['path_jpg'] = path_test + test_df['filename'] + '.jpg'\n",
        "\n",
        "print('Len Train: {:,}'.format(len(train_df)), '\\n' +\n",
        "      'Len Test: {:,}'.format(len(test_df)))\n",
        "\n",
        "# Yay!"
      ],
      "metadata": {
        "colab": {
          "base_uri": "https://localhost:8080/"
        },
        "id": "Yfn5YMYMh7Cj",
        "outputId": "5cba3ec4-22b8-43c3-ecd5-5ac3df8092c3"
      },
      "execution_count": null,
      "outputs": [
        {
          "output_type": "stream",
          "name": "stdout",
          "text": [
            "Len Train: 389 \n",
            "Len Test: 165\n"
          ]
        }
      ]
    },
    {
      "cell_type": "code",
      "source": [
        "print(train_df.head())\n",
        "print(train_df.info())"
      ],
      "metadata": {
        "colab": {
          "base_uri": "https://localhost:8080/"
        },
        "id": "_PHnVcvjPr_f",
        "outputId": "14394428-914c-4f00-d44c-2e19d694ba6c"
      },
      "execution_count": null,
      "outputs": [
        {
          "output_type": "stream",
          "name": "stdout",
          "text": [
            "                                          image_path label      filename  \\\n",
            "0  D:\\HuaweiMoveData\\Users\\35045\\Desktop\\train_te...   low  IMG_3817.jpg   \n",
            "1  D:\\HuaweiMoveData\\Users\\35045\\Desktop\\train_te...   low  IMG_3818.jpg   \n",
            "2  D:\\HuaweiMoveData\\Users\\35045\\Desktop\\train_te...   low  IMG_3819.jpg   \n",
            "3  D:\\HuaweiMoveData\\Users\\35045\\Desktop\\train_te...   low  IMG_3820.jpg   \n",
            "4  D:\\HuaweiMoveData\\Users\\35045\\Desktop\\train_te...   low  IMG_3821.jpg   \n",
            "\n",
            "                         path_jpg  \n",
            "0  /content/trainIMG_3817.jpg.jpg  \n",
            "1  /content/trainIMG_3818.jpg.jpg  \n",
            "2  /content/trainIMG_3819.jpg.jpg  \n",
            "3  /content/trainIMG_3820.jpg.jpg  \n",
            "4  /content/trainIMG_3821.jpg.jpg  \n",
            "<class 'pandas.core.frame.DataFrame'>\n",
            "RangeIndex: 389 entries, 0 to 388\n",
            "Data columns (total 4 columns):\n",
            " #   Column      Non-Null Count  Dtype \n",
            "---  ------      --------------  ----- \n",
            " 0   image_path  389 non-null    object\n",
            " 1   label       389 non-null    object\n",
            " 2   filename    389 non-null    object\n",
            " 3   path_jpg    389 non-null    object\n",
            "dtypes: object(4)\n",
            "memory usage: 12.3+ KB\n",
            "None\n"
          ]
        }
      ]
    },
    {
      "cell_type": "code",
      "source": [
        "print(my_train.head())\n"
      ],
      "metadata": {
        "colab": {
          "base_uri": "https://localhost:8080/"
        },
        "id": "GBsvAQp3QpkZ",
        "outputId": "09238597-a8b1-4746-8f99-925cdb4e4aa5"
      },
      "execution_count": null,
      "outputs": [
        {
          "output_type": "stream",
          "name": "stdout",
          "text": [
            "                                          image_path label      filename\n",
            "0  D:\\HuaweiMoveData\\Users\\35045\\Desktop\\train_te...   low  IMG_3817.jpg\n",
            "1  D:\\HuaweiMoveData\\Users\\35045\\Desktop\\train_te...   low  IMG_3818.jpg\n",
            "2  D:\\HuaweiMoveData\\Users\\35045\\Desktop\\train_te...   low  IMG_3819.jpg\n",
            "3  D:\\HuaweiMoveData\\Users\\35045\\Desktop\\train_te...   low  IMG_3820.jpg\n",
            "4  D:\\HuaweiMoveData\\Users\\35045\\Desktop\\train_te...   low  IMG_3821.jpg\n"
          ]
        }
      ]
    },
    {
      "cell_type": "code",
      "source": [
        "my_train = pd.read_csv('/content/train.CSV')\n",
        "roman_train = pd.read_csv('/content/train.CSV')\n",
        "\n",
        "print(my_train.head())\n",
        "print(roman_train.head())\n"
      ],
      "metadata": {
        "colab": {
          "base_uri": "https://localhost:8080/"
        },
        "id": "FtIrd3GnQ6bi",
        "outputId": "075f32f0-ed73-479e-c7e8-d1463f2c3e2b"
      },
      "execution_count": null,
      "outputs": [
        {
          "output_type": "stream",
          "name": "stdout",
          "text": [
            "                                          image_path label      filename\n",
            "0  D:\\HuaweiMoveData\\Users\\35045\\Desktop\\train_te...   low  IMG_3817.jpg\n",
            "1  D:\\HuaweiMoveData\\Users\\35045\\Desktop\\train_te...   low  IMG_3818.jpg\n",
            "2  D:\\HuaweiMoveData\\Users\\35045\\Desktop\\train_te...   low  IMG_3819.jpg\n",
            "3  D:\\HuaweiMoveData\\Users\\35045\\Desktop\\train_te...   low  IMG_3820.jpg\n",
            "4  D:\\HuaweiMoveData\\Users\\35045\\Desktop\\train_te...   low  IMG_3821.jpg\n",
            "                                          image_path label      filename\n",
            "0  D:\\HuaweiMoveData\\Users\\35045\\Desktop\\train_te...   low  IMG_3817.jpg\n",
            "1  D:\\HuaweiMoveData\\Users\\35045\\Desktop\\train_te...   low  IMG_3818.jpg\n",
            "2  D:\\HuaweiMoveData\\Users\\35045\\Desktop\\train_te...   low  IMG_3819.jpg\n",
            "3  D:\\HuaweiMoveData\\Users\\35045\\Desktop\\train_te...   low  IMG_3820.jpg\n",
            "4  D:\\HuaweiMoveData\\Users\\35045\\Desktop\\train_te...   low  IMG_3821.jpg\n"
          ]
        }
      ]
    },
    {
      "cell_type": "code",
      "source": [
        "# ----- STATICS -----\n",
        "vertical_flip = 0.5\n",
        "horizontal_flip = 0.5\n",
        "\n",
        "csv_columns = ['label']\n",
        "no_columns = 1\n",
        "# ------------------"
      ],
      "metadata": {
        "id": "z-PS7iQ46-eQ"
      },
      "execution_count": null,
      "outputs": []
    },
    {
      "cell_type": "code",
      "source": [
        "train_df['label'] = train_df['label'].replace({'0': 'low', '1': 'medium', '2': 'high'})\n",
        "\n",
        "train_df['label'] = train_df['label'].astype(str)\n",
        "\n",
        "# 使用 LabelEncoder 进行编码\n",
        "label_encoder = LabelEncoder()\n",
        "train_df['encoded_label'] = label_encoder.fit_transform(train_df['label'])\n",
        "\n",
        "# 查看编码后的数据\n",
        "print(train_df[['label', 'encoded_label']].head())\n"
      ],
      "metadata": {
        "colab": {
          "base_uri": "https://localhost:8080/"
        },
        "id": "ea89IWcl8fU3",
        "outputId": "f48ff883-5ed8-4480-e609-533fd88cb908"
      },
      "execution_count": null,
      "outputs": [
        {
          "output_type": "stream",
          "name": "stdout",
          "text": [
            "  label  encoded_label\n",
            "0   low              1\n",
            "1   low              1\n",
            "2   low              1\n",
            "3   low              1\n",
            "4   low              1\n"
          ]
        }
      ]
    },
    {
      "cell_type": "code",
      "source": [
        "# Example of csv_data at index=0\n",
        "np.array(train_df.iloc[0][csv_columns].values,dtype=np.float32)"
      ],
      "metadata": {
        "colab": {
          "base_uri": "https://localhost:8080/",
          "height": 158
        },
        "id": "cwXXz4J08V75",
        "outputId": "3a797bc7-10cc-4ef7-dab7-f6ec537e5516"
      },
      "execution_count": null,
      "outputs": [
        {
          "output_type": "error",
          "ename": "ValueError",
          "evalue": "could not convert string to float: 'low'",
          "traceback": [
            "\u001b[0;31m---------------------------------------------------------------------------\u001b[0m",
            "\u001b[0;31mValueError\u001b[0m                                Traceback (most recent call last)",
            "\u001b[0;32m<ipython-input-14-8e4cc6625bdb>\u001b[0m in \u001b[0;36m<cell line: 2>\u001b[0;34m()\u001b[0m\n\u001b[1;32m      1\u001b[0m \u001b[0;31m# Example of csv_data at index=0\u001b[0m\u001b[0;34m\u001b[0m\u001b[0;34m\u001b[0m\u001b[0m\n\u001b[0;32m----> 2\u001b[0;31m \u001b[0mnp\u001b[0m\u001b[0;34m.\u001b[0m\u001b[0marray\u001b[0m\u001b[0;34m(\u001b[0m\u001b[0mtrain_df\u001b[0m\u001b[0;34m.\u001b[0m\u001b[0miloc\u001b[0m\u001b[0;34m[\u001b[0m\u001b[0;36m0\u001b[0m\u001b[0;34m]\u001b[0m\u001b[0;34m[\u001b[0m\u001b[0mcsv_columns\u001b[0m\u001b[0;34m]\u001b[0m\u001b[0;34m.\u001b[0m\u001b[0mvalues\u001b[0m\u001b[0;34m,\u001b[0m\u001b[0mdtype\u001b[0m\u001b[0;34m=\u001b[0m\u001b[0mnp\u001b[0m\u001b[0;34m.\u001b[0m\u001b[0mfloat32\u001b[0m\u001b[0;34m)\u001b[0m\u001b[0;34m\u001b[0m\u001b[0;34m\u001b[0m\u001b[0m\n\u001b[0m",
            "\u001b[0;31mValueError\u001b[0m: could not convert string to float: 'low'"
          ]
        }
      ]
    },
    {
      "cell_type": "code",
      "source": [
        "import cv2\n",
        "import numpy as np\n",
        "import pandas as pd\n",
        "from torch.utils.data import Dataset\n",
        "from albumentations import Compose, RandomResizedCrop, HorizontalFlip, VerticalFlip, Normalize, HueSaturationValue, RandomBrightnessContrast\n",
        "from albumentations.pytorch import ToTensorV2\n",
        "\n",
        "class TeaDataset(Dataset):\n",
        "    def __init__(self, dataframe, vertical_flip=0.5, horizontal_flip=0.5,\n",
        "                 is_train=True, is_valid=False, is_test=False):\n",
        "        self.dataframe, self.is_train, self.is_valid = dataframe, is_train, is_valid\n",
        "        self.vertical_flip, self.horizontal_flip = vertical_flip, horizontal_flip\n",
        "\n",
        "        # Data Augmentation (custom for each dataset type)\n",
        "        if is_train or is_test:\n",
        "            self.transform = Compose([\n",
        "                RandomResizedCrop(height=224, width=224, scale=(0.4, 1.0)),\n",
        "                HorizontalFlip(p=self.horizontal_flip),\n",
        "                VerticalFlip(p=self.vertical_flip),\n",
        "                HueSaturationValue(sat_shift_limit=[0.7, 1.3], hue_shift_limit=[-0.1, 0.1]),\n",
        "                RandomBrightnessContrast(brightness_limit=[0.7, 1.3], contrast_limit=[0.7, 1.3]),\n",
        "                Normalize(),\n",
        "                ToTensorV2()\n",
        "            ])\n",
        "        else:\n",
        "            self.transform = Compose([\n",
        "                Normalize(),\n",
        "                ToTensorV2()\n",
        "            ])\n",
        "\n",
        "    def __len__(self):\n",
        "        return len(self.dataframe)\n",
        "\n",
        "    def __getitem__(self, index):\n",
        "        # 获取图像路径并读取图像\n",
        "        image_path = self.dataframe['image_path'][index]\n",
        "\n",
        "        # 检查图像路径是否存在\n",
        "        if not cv2.os.path.exists(image_path):\n",
        "            print(f\"Warning: Image path {image_path} not found!\")\n",
        "            return None\n",
        "\n",
        "        image = cv2.imread(image_path)\n",
        "\n",
        "        if image is None:\n",
        "            print(f\"Error: Failed to read image at {image_path}\")\n",
        "            return None\n",
        "\n",
        "        # 获取图像的csv数据\n",
        "        csv_data = np.array(self.dataframe.iloc[index][['label']].values, dtype=np.float32)\n",
        "\n",
        "        # 应用数据增强转换\n",
        "        image = self.transform(image=image)\n",
        "        # 从字典中提取图像\n",
        "        image = image['image']\n",
        "\n",
        "        # 如果是训练集或验证集，返回图像和标签\n",
        "        if self.is_train or self.is_valid:\n",
        "            return (image, csv_data), self.dataframe['label'][index]\n",
        "        else:\n",
        "            # 如果是测试集，仅返回图像和csv数据\n",
        "            return (image, csv_data)\n",
        "\n"
      ],
      "metadata": {
        "id": "DAuvCCjhC71Z"
      },
      "execution_count": null,
      "outputs": []
    },
    {
      "cell_type": "code",
      "source": [
        "class MelanomaDataset(Dataset):\n",
        "\n",
        "    def __init__(self, dataframe, vertical_flip, horizontal_flip,\n",
        "                 is_train=True, is_valid=False, is_test=False):\n",
        "        self.dataframe, self.is_train, self.is_valid = dataframe, is_train, is_valid\n",
        "        self.vertical_flip, self.horizontal_flip = vertical_flip, horizontal_flip\n",
        "\n",
        "        # Data Augmentation (custom for each dataset type)\n",
        "        if is_train or is_test:\n",
        "            self.transform = Compose([RandomResizedCrop(height=224, width=224, scale=(0.4, 1.0)),\n",
        "                                      ShiftScaleRotate(rotate_limit=90, scale_limit = [0.8, 1.2]),\n",
        "                                      HorizontalFlip(p = self.horizontal_flip),\n",
        "                                      VerticalFlip(p = self.vertical_flip),\n",
        "                                      HueSaturationValue(sat_shift_limit=[0.7, 1.3],\n",
        "                                                         hue_shift_limit=[-0.1, 0.1]),\n",
        "                                      RandomBrightnessContrast(brightness_limit=[0.7, 1.3],\n",
        "                                                               contrast_limit= [0.7, 1.3]),\n",
        "                                      Normalize(),\n",
        "                                      ToTensor()])\n",
        "        else:\n",
        "            self.transform = Compose([Normalize(),\n",
        "                                      ToTensor()])\n",
        "\n",
        "    def __len__(self):\n",
        "        return len(self.dataframe)\n",
        "\n",
        "    def __getitem__(self, index):\n",
        "        # Select path and read image\n",
        "        image_path = self.dataframe['path_jpg'][index]\n",
        "        image = cv2.imread(image_path)\n",
        "        # For this image also import .csv information (sex, age, anatomy)\n",
        "        csv_data = np.array(self.dataframe.iloc[index][['label']].values,\n",
        "                            dtype=np.float32)\n",
        "\n",
        "        # Apply transforms\n",
        "        image = self.transform(image=image)\n",
        "        # Extract image from dictionary\n",
        "        image = image['image']\n",
        "\n",
        "        # If train/valid: image + class | If test: only image\n",
        "        if self.is_train or self.is_valid:\n",
        "            return (image, csv_data), self.dataframe['target'][index]\n",
        "        else:\n",
        "            return (image, csv_data)"
      ],
      "metadata": {
        "id": "6ohN8MBZBSuV"
      },
      "execution_count": null,
      "outputs": []
    },
    {
      "cell_type": "code",
      "source": [
        "class ResNet50Network(nn.Module):\n",
        "    def __init__(self, output_size, no_columns):\n",
        "        super().__init__()\n",
        "        self.no_columns, self.output_size = no_columns, output_size\n",
        "\n",
        "        # Define Feature part (IMAGE)\n",
        "        self.features = resnet50(pretrained=True) # 1000 neurons out\n",
        "        # (CSV data)\n",
        "        self.csv = nn.Sequential(nn.Linear(self.no_columns, 500),\n",
        "                                 nn.BatchNorm1d(500),\n",
        "                                 nn.ReLU(),\n",
        "                                 nn.Dropout(p=0.2))\n",
        "\n",
        "        # Define Classification part\n",
        "        self.classification = nn.Linear(1000 + 500, output_size)\n",
        "\n",
        "\n",
        "    def forward(self, image, csv_data, prints=False):\n",
        "\n",
        "        if prints: print('Input Image shape:', image.shape, '\\n'+\n",
        "                         'Input csv_data shape:', csv_data.shape)\n",
        "\n",
        "        # Image CNN\n",
        "        image = self.features(image)\n",
        "        if prints: print('Features Image shape:', image.shape)\n",
        "\n",
        "        # CSV FNN\n",
        "        csv_data = self.csv(csv_data)\n",
        "        if prints: print('CSV Data:', csv_data.shape)\n",
        "\n",
        "        # Concatenate layers from image with layers from csv_data\n",
        "        image_csv_data = torch.cat((image, csv_data), dim=1)\n",
        "\n",
        "        # CLASSIF\n",
        "        out = self.classification(image_csv_data)\n",
        "        if prints: print('Out shape:', out.shape)\n",
        "\n",
        "        return out"
      ],
      "metadata": {
        "id": "5i_2D0gaCro5"
      },
      "execution_count": null,
      "outputs": []
    },
    {
      "cell_type": "code",
      "source": [
        "model_example = ResNet50Network(output_size=output_size, no_columns=no_columns)"
      ],
      "metadata": {
        "colab": {
          "base_uri": "https://localhost:8080/"
        },
        "id": "CrDxfbSACuYq",
        "outputId": "c13dec74-b654-4ecc-dbd2-87e21f06738d"
      },
      "execution_count": null,
      "outputs": [
        {
          "output_type": "stream",
          "name": "stderr",
          "text": [
            "Downloading: \"https://download.pytorch.org/models/resnet50-0676ba61.pth\" to /root/.cache/torch/hub/checkpoints/resnet50-0676ba61.pth\n",
            "100%|██████████| 97.8M/97.8M [00:01<00:00, 94.4MB/s]\n"
          ]
        }
      ]
    },
    {
      "cell_type": "code",
      "source": [
        "class EfficientNetwork(nn.Module):\n",
        "    def __init__(self, output_size, no_columns, b4=False, b2=False):\n",
        "        super().__init__()\n",
        "        self.b4, self.b2, self.no_columns = b4, b2, no_columns\n",
        "\n",
        "        # Define Feature part (IMAGE)\n",
        "        if b4:\n",
        "            self.features = EfficientNet.from_pretrained('efficientnet-b4')\n",
        "        elif b2:\n",
        "            self.features = EfficientNet.from_pretrained('efficientnet-b2')\n",
        "        else:\n",
        "            self.features = EfficientNet.from_pretrained('efficientnet-b7')\n",
        "\n",
        "        # (CSV)\n",
        "        self.csv = nn.Sequential(nn.Linear(self.no_columns, 250),\n",
        "                                 nn.BatchNorm1d(250),\n",
        "                                 nn.ReLU(),\n",
        "                                 nn.Dropout(p=0.2),\n",
        "\n",
        "                                 nn.Linear(250, 250),\n",
        "                                 nn.BatchNorm1d(250),\n",
        "                                 nn.ReLU(),\n",
        "                                 nn.Dropout(p=0.2))\n",
        "\n",
        "        # Define Classification part\n",
        "        if b4:\n",
        "            self.classification = nn.Sequential(nn.Linear(1792 + 250, output_size))\n",
        "        elif b2:\n",
        "            self.classification = nn.Sequential(nn.Linear(1408 + 250, output_size))\n",
        "        else:\n",
        "            self.classification = nn.Sequential(nn.Linear(2560 + 250, output_size))\n",
        "\n",
        "\n",
        "    def forward(self, image, csv_data, prints=False):\n",
        "\n",
        "        if prints: print('Input Image shape:', image.shape, '\\n'+\n",
        "                         'Input csv_data shape:', csv_data.shape)\n",
        "\n",
        "        # IMAGE CNN\n",
        "        image = self.features.extract_features(image)\n",
        "        if prints: print('Features Image shape:', image.shape)\n",
        "\n",
        "        if self.b4:\n",
        "            image = F.avg_pool2d(image, image.size()[2:]).reshape(-1, 1792)\n",
        "        elif self.b2:\n",
        "            image = F.avg_pool2d(image, image.size()[2:]).reshape(-1, 1408)\n",
        "        else:\n",
        "            image = F.avg_pool2d(image, image.size()[2:]).reshape(-1, 2560)\n",
        "        if prints: print('Image Reshaped shape:', image.shape)\n",
        "\n",
        "        # CSV FNN\n",
        "        csv_data = self.csv(csv_data)\n",
        "        if prints: print('CSV Data:', csv_data.shape)\n",
        "\n",
        "        # Concatenate\n",
        "        image_csv_data = torch.cat((image, csv_data), dim=1)\n",
        "\n",
        "        # CLASSIF\n",
        "        out = self.classification(image_csv_data)\n",
        "        if prints: print('Out shape:', out.shape)\n",
        "\n",
        "        return out"
      ],
      "metadata": {
        "id": "HQkLQXXwDgPF"
      },
      "execution_count": null,
      "outputs": []
    },
    {
      "cell_type": "code",
      "source": [
        "# Create an example model - Effnet\n",
        "model_example = EfficientNetwork(output_size=output_size, no_columns=no_columns,\n",
        "                                 b4=False, b2=True)"
      ],
      "metadata": {
        "colab": {
          "base_uri": "https://localhost:8080/"
        },
        "id": "Y14PlOmQEXrr",
        "outputId": "280d6b36-b753-4e23-9b36-329f53ef86a3"
      },
      "execution_count": null,
      "outputs": [
        {
          "output_type": "stream",
          "name": "stderr",
          "text": [
            "Downloading: \"https://github.com/lukemelas/EfficientNet-PyTorch/releases/download/1.0/efficientnet-b2-8bb594d6.pth\" to /root/.cache/torch/hub/checkpoints/efficientnet-b2-8bb594d6.pth\n",
            "100%|██████████| 35.1M/35.1M [00:00<00:00, 210MB/s]\n"
          ]
        },
        {
          "output_type": "stream",
          "name": "stdout",
          "text": [
            "Loaded pretrained weights for efficientnet-b2\n"
          ]
        }
      ]
    },
    {
      "cell_type": "code",
      "source": [
        "# ----- STATICS -----\n",
        "train_len = len(train_df)\n",
        "test_len = len(test_df)\n",
        "# -------------------\n",
        "\n",
        "\n",
        "# Out of Fold Predictions\n",
        "oof = np.zeros(shape = (train_len, 1))\n",
        "\n",
        "# Predictions\n",
        "preds_submission = torch.zeros(size = (test_len, 1), dtype=torch.float32, device=device)\n",
        "\n",
        "print('oof shape:', oof.shape, '\\n' +\n",
        "      'predictions shape:', preds_submission.shape)"
      ],
      "metadata": {
        "colab": {
          "base_uri": "https://localhost:8080/"
        },
        "id": "fBa_QV2SEcQT",
        "outputId": "e1961492-d30a-4c3c-bd2e-bb427598f442"
      },
      "execution_count": null,
      "outputs": [
        {
          "output_type": "stream",
          "name": "stdout",
          "text": [
            "oof shape: (389, 1) \n",
            "predictions shape: torch.Size([165, 1])\n"
          ]
        }
      ]
    },
    {
      "cell_type": "code",
      "source": [
        "# ----- STATICS -----\n",
        "k = 6              # number of folds in Group K Fold\n",
        "# ------------------"
      ],
      "metadata": {
        "id": "uDXBSh1FEh_d"
      },
      "execution_count": null,
      "outputs": []
    },
    {
      "cell_type": "code",
      "source": [
        "# Create Object\n",
        "group_fold = GroupKFold(n_splits = k)\n",
        "\n",
        "# Generate indices to split data into training and test set.\n",
        "folds = group_fold.split(X = np.zeros(train_len),\n",
        "                         y = train_df['label'],\n",
        "                         groups = train_df['filename'].tolist())"
      ],
      "metadata": {
        "id": "YXRBGSI7Eo7V"
      },
      "execution_count": null,
      "outputs": []
    },
    {
      "cell_type": "code",
      "source": [
        "# ----- STATICS -----\n",
        "epochs = 15\n",
        "patience = 3\n",
        "TTA = 3\n",
        "num_workers = 8\n",
        "learning_rate = 0.0005\n",
        "weight_decay = 0.0\n",
        "lr_patience = 1            # 1 model not improving until lr is decreasing\n",
        "lr_factor = 0.4            # by how much the lr is decreasing\n",
        "\n",
        "batch_size1 = 32\n",
        "batch_size2 = 16\n",
        "\n",
        "version = 'v6'             # to keep tabs on versions\n",
        "# -------------------"
      ],
      "metadata": {
        "id": "QP3XtoyhFQbz"
      },
      "execution_count": null,
      "outputs": []
    },
    {
      "cell_type": "code",
      "source": [
        "def train_folds(preds_submission, model, version='v1'):\n",
        "    f = open(f\"logs_{version}.txt\", \"w+\")\n",
        "\n",
        "    for fold, (train_index, valid_index) in enumerate(folds):\n",
        "        with open(f\"logs_{version}.txt\", 'a+') as f:\n",
        "            print('-'*10, 'Fold:', fold+1, '-'*10, file=f)\n",
        "        print('-'*10, 'Fold:', fold+1, '-'*10)\n",
        "\n",
        "        # --- Create Instances ---\n",
        "        best_roc = None\n",
        "        patience_f = patience\n",
        "        optimizer = torch.optim.Adam(model.parameters(), lr=learning_rate, weight_decay=weight_decay)\n",
        "        scheduler = ReduceLROnPlateau(optimizer=optimizer, mode='max', patience=lr_patience, verbose=True, factor=lr_factor)\n",
        "        criterion = nn.CrossEntropyLoss()\n",
        "\n",
        "        # --- Read in Data ---\n",
        "        train_data = train_df.iloc[train_index].reset_index(drop=True)\n",
        "        valid_data = train_df.iloc[valid_index].reset_index(drop=True)\n",
        "\n",
        "        train = TeaLeafDataset(train_data, vertical_flip=vertical_flip, horizontal_flip=horizontal_flip, is_train=True)\n",
        "        valid = TeaLeafDataset(valid_data, vertical_flip=vertical_flip, horizontal_flip=horizontal_flip, is_train=False)\n",
        "\n",
        "        train_loader = DataLoader(train, batch_size=batch_size1, shuffle=True, num_workers=num_workers)\n",
        "        valid_loader = DataLoader(valid, batch_size=batch_size2, shuffle=False, num_workers=num_workers)\n",
        "\n",
        "        for epoch in range(epochs):\n",
        "            start_time = time.time()\n",
        "            correct = 0\n",
        "            train_losses = 0\n",
        "\n",
        "            model.train()\n",
        "            for (images, csv_data), labels in train_loader:\n",
        "                images = torch.tensor(images, device=device, dtype=torch.float32)\n",
        "                csv_data = torch.tensor(csv_data, device=device, dtype=torch.float32)\n",
        "                labels = torch.tensor(labels, device=device, dtype=torch.long)\n",
        "                optimizer.zero_grad()\n",
        "                out = model(images, csv_data)\n",
        "                loss = criterion(out, labels)\n",
        "                loss.backward()\n",
        "                optimizer.step()\n",
        "\n",
        "                train_losses += loss.item()\n",
        "                train_preds = torch.argmax(out, dim=1)\n",
        "                correct += (train_preds == labels).sum().item()\n",
        "\n",
        "            train_acc = correct / len(train_index)\n",
        "\n",
        "            model.eval()\n",
        "            valid_preds = torch.zeros(size=(len(valid_index), 1), device=device, dtype=torch.float32)\n",
        "            with torch.no_grad():\n",
        "                for k, ((images, csv_data), labels) in enumerate(valid_loader):\n",
        "                    images = torch.tensor(images, device=device, dtype=torch.float32)\n",
        "                    csv_data = torch.tensor(csv_data, device=device, dtype=torch.float32)\n",
        "                    labels = torch.tensor(labels, device=device, dtype=torch.long)\n",
        "\n",
        "                    out = model(images, csv_data)\n",
        "                    valid_preds[k * images.shape[0]: k * images.shape[0] + images.shape[0]] = out\n",
        "\n",
        "                valid_acc = accuracy_score(valid_data['target'].values, torch.argmax(valid_preds.cpu(), dim=1))\n",
        "                valid_roc = roc_auc_score(valid_data['target'].values, valid_preds.cpu())\n",
        "\n",
        "                duration = str(datetime.timedelta(seconds=time.time() - start_time))[:7]\n",
        "\n",
        "                with open(f\"logs_{version}.txt\", 'a+') as f:\n",
        "                    print('{} | Epoch: {}/{} | Loss: {:.4} | Train Acc: {:.3} | Valid Acc: {:.3} | ROC: {:.3}'.format(\n",
        "                        duration, epoch + 1, epochs, train_losses, train_acc, valid_acc, valid_roc), file=f)\n",
        "\n",
        "                print('{} | Epoch: {}/{} | Loss: {:.4} | Train Acc: {:.3} | Valid Acc: {:.3} | ROC: {:.3}'.format(\n",
        "                    duration, epoch + 1, epochs, train_losses, train_acc, valid_acc, valid_roc))\n",
        "\n",
        "                scheduler.step(valid_roc)\n",
        "\n",
        "                if not best_roc:\n",
        "                    best_roc = valid_roc\n",
        "                    torch.save(model.state_dict(), f\"Fold{fold+1}_Epoch{epoch+1}_ValidAcc_{valid_acc:.3f}_ROC_{valid_roc:.3f}.pth\")\n",
        "                    continue\n",
        "\n",
        "                if valid_roc > best_roc:\n",
        "                    best_roc = valid_roc\n",
        "                    patience_f = patience\n",
        "                    torch.save(model.state_dict(), f\"Fold{fold+1}_Epoch{epoch+1}_ValidAcc_{valid_acc:.3f}_ROC_{valid_roc:.3f}.pth\")\n",
        "\n"
      ],
      "metadata": {
        "id": "0BQ0F6ejG6Xb"
      },
      "execution_count": null,
      "outputs": []
    },
    {
      "cell_type": "code",
      "source": [
        "# Print the logs during training\n",
        "f = open('../input/siim-melanoma-prep-data/logs_v7.txt', \"r\")\n",
        "contents = f.read()\n",
        "print(contents)"
      ],
      "metadata": {
        "colab": {
          "base_uri": "https://localhost:8080/",
          "height": 193
        },
        "id": "-QO_inO4HOAy",
        "outputId": "f5ad04df-4539-44a3-baec-e8d44c3b6ceb"
      },
      "execution_count": null,
      "outputs": [
        {
          "output_type": "error",
          "ename": "FileNotFoundError",
          "evalue": "[Errno 2] No such file or directory: '../input/siim-melanoma-prep-data/logs_v7.txt'",
          "traceback": [
            "\u001b[0;31m---------------------------------------------------------------------------\u001b[0m",
            "\u001b[0;31mFileNotFoundError\u001b[0m                         Traceback (most recent call last)",
            "\u001b[0;32m<ipython-input-42-f066b3a181a3>\u001b[0m in \u001b[0;36m<cell line: 2>\u001b[0;34m()\u001b[0m\n\u001b[1;32m      1\u001b[0m \u001b[0;31m# Print the logs during training\u001b[0m\u001b[0;34m\u001b[0m\u001b[0;34m\u001b[0m\u001b[0m\n\u001b[0;32m----> 2\u001b[0;31m \u001b[0mf\u001b[0m \u001b[0;34m=\u001b[0m \u001b[0mopen\u001b[0m\u001b[0;34m(\u001b[0m\u001b[0;34m'../input/siim-melanoma-prep-data/logs_v7.txt'\u001b[0m\u001b[0;34m,\u001b[0m \u001b[0;34m\"r\"\u001b[0m\u001b[0;34m)\u001b[0m\u001b[0;34m\u001b[0m\u001b[0;34m\u001b[0m\u001b[0m\n\u001b[0m\u001b[1;32m      3\u001b[0m \u001b[0mcontents\u001b[0m \u001b[0;34m=\u001b[0m \u001b[0mf\u001b[0m\u001b[0;34m.\u001b[0m\u001b[0mread\u001b[0m\u001b[0;34m(\u001b[0m\u001b[0;34m)\u001b[0m\u001b[0;34m\u001b[0m\u001b[0;34m\u001b[0m\u001b[0m\n\u001b[1;32m      4\u001b[0m \u001b[0mprint\u001b[0m\u001b[0;34m(\u001b[0m\u001b[0mcontents\u001b[0m\u001b[0;34m)\u001b[0m\u001b[0;34m\u001b[0m\u001b[0;34m\u001b[0m\u001b[0m\n",
            "\u001b[0;31mFileNotFoundError\u001b[0m: [Errno 2] No such file or directory: '../input/siim-melanoma-prep-data/logs_v7.txt'"
          ]
        }
      ]
    },
    {
      "cell_type": "code",
      "source": [
        "# Import OOF (pretrained)\n",
        "oof = pd.read_csv('../content/oof_v7.CSV')\n",
        "\n",
        "# ROC on full Training data\n",
        "print('OOF ROC: {:.3f}'.format(roc_auc_score(train_df['target'], oof)))"
      ],
      "metadata": {
        "colab": {
          "base_uri": "https://localhost:8080/",
          "height": 391
        },
        "id": "GOm4JnrNHljE",
        "outputId": "375b73ac-f4d8-45d0-d1c0-ee784199cd53"
      },
      "execution_count": null,
      "outputs": [
        {
          "output_type": "error",
          "ename": "EmptyDataError",
          "evalue": "No columns to parse from file",
          "traceback": [
            "\u001b[0;31m---------------------------------------------------------------------------\u001b[0m",
            "\u001b[0;31mEmptyDataError\u001b[0m                            Traceback (most recent call last)",
            "\u001b[0;32m<ipython-input-45-41f8e3b37f0f>\u001b[0m in \u001b[0;36m<cell line: 2>\u001b[0;34m()\u001b[0m\n\u001b[1;32m      1\u001b[0m \u001b[0;31m# Import OOF (pretrained)\u001b[0m\u001b[0;34m\u001b[0m\u001b[0;34m\u001b[0m\u001b[0m\n\u001b[0;32m----> 2\u001b[0;31m \u001b[0moof\u001b[0m \u001b[0;34m=\u001b[0m \u001b[0mpd\u001b[0m\u001b[0;34m.\u001b[0m\u001b[0mread_csv\u001b[0m\u001b[0;34m(\u001b[0m\u001b[0;34m'../content/oof_v7.CSV'\u001b[0m\u001b[0;34m)\u001b[0m\u001b[0;34m\u001b[0m\u001b[0;34m\u001b[0m\u001b[0m\n\u001b[0m\u001b[1;32m      3\u001b[0m \u001b[0;34m\u001b[0m\u001b[0m\n\u001b[1;32m      4\u001b[0m \u001b[0;31m# ROC on full Training data\u001b[0m\u001b[0;34m\u001b[0m\u001b[0;34m\u001b[0m\u001b[0m\n\u001b[1;32m      5\u001b[0m \u001b[0mprint\u001b[0m\u001b[0;34m(\u001b[0m\u001b[0;34m'OOF ROC: {:.3f}'\u001b[0m\u001b[0;34m.\u001b[0m\u001b[0mformat\u001b[0m\u001b[0;34m(\u001b[0m\u001b[0mroc_auc_score\u001b[0m\u001b[0;34m(\u001b[0m\u001b[0mtrain_df\u001b[0m\u001b[0;34m[\u001b[0m\u001b[0;34m'target'\u001b[0m\u001b[0;34m]\u001b[0m\u001b[0;34m,\u001b[0m \u001b[0moof\u001b[0m\u001b[0;34m)\u001b[0m\u001b[0;34m)\u001b[0m\u001b[0;34m)\u001b[0m\u001b[0;34m\u001b[0m\u001b[0;34m\u001b[0m\u001b[0m\n",
            "\u001b[0;32m/usr/local/lib/python3.10/dist-packages/pandas/io/parsers/readers.py\u001b[0m in \u001b[0;36mread_csv\u001b[0;34m(filepath_or_buffer, sep, delimiter, header, names, index_col, usecols, dtype, engine, converters, true_values, false_values, skipinitialspace, skiprows, skipfooter, nrows, na_values, keep_default_na, na_filter, verbose, skip_blank_lines, parse_dates, infer_datetime_format, keep_date_col, date_parser, date_format, dayfirst, cache_dates, iterator, chunksize, compression, thousands, decimal, lineterminator, quotechar, quoting, doublequote, escapechar, comment, encoding, encoding_errors, dialect, on_bad_lines, delim_whitespace, low_memory, memory_map, float_precision, storage_options, dtype_backend)\u001b[0m\n\u001b[1;32m   1024\u001b[0m     \u001b[0mkwds\u001b[0m\u001b[0;34m.\u001b[0m\u001b[0mupdate\u001b[0m\u001b[0;34m(\u001b[0m\u001b[0mkwds_defaults\u001b[0m\u001b[0;34m)\u001b[0m\u001b[0;34m\u001b[0m\u001b[0;34m\u001b[0m\u001b[0m\n\u001b[1;32m   1025\u001b[0m \u001b[0;34m\u001b[0m\u001b[0m\n\u001b[0;32m-> 1026\u001b[0;31m     \u001b[0;32mreturn\u001b[0m \u001b[0m_read\u001b[0m\u001b[0;34m(\u001b[0m\u001b[0mfilepath_or_buffer\u001b[0m\u001b[0;34m,\u001b[0m \u001b[0mkwds\u001b[0m\u001b[0;34m)\u001b[0m\u001b[0;34m\u001b[0m\u001b[0;34m\u001b[0m\u001b[0m\n\u001b[0m\u001b[1;32m   1027\u001b[0m \u001b[0;34m\u001b[0m\u001b[0m\n\u001b[1;32m   1028\u001b[0m \u001b[0;34m\u001b[0m\u001b[0m\n",
            "\u001b[0;32m/usr/local/lib/python3.10/dist-packages/pandas/io/parsers/readers.py\u001b[0m in \u001b[0;36m_read\u001b[0;34m(filepath_or_buffer, kwds)\u001b[0m\n\u001b[1;32m    618\u001b[0m \u001b[0;34m\u001b[0m\u001b[0m\n\u001b[1;32m    619\u001b[0m     \u001b[0;31m# Create the parser.\u001b[0m\u001b[0;34m\u001b[0m\u001b[0;34m\u001b[0m\u001b[0m\n\u001b[0;32m--> 620\u001b[0;31m     \u001b[0mparser\u001b[0m \u001b[0;34m=\u001b[0m \u001b[0mTextFileReader\u001b[0m\u001b[0;34m(\u001b[0m\u001b[0mfilepath_or_buffer\u001b[0m\u001b[0;34m,\u001b[0m \u001b[0;34m**\u001b[0m\u001b[0mkwds\u001b[0m\u001b[0;34m)\u001b[0m\u001b[0;34m\u001b[0m\u001b[0;34m\u001b[0m\u001b[0m\n\u001b[0m\u001b[1;32m    621\u001b[0m \u001b[0;34m\u001b[0m\u001b[0m\n\u001b[1;32m    622\u001b[0m     \u001b[0;32mif\u001b[0m \u001b[0mchunksize\u001b[0m \u001b[0;32mor\u001b[0m \u001b[0miterator\u001b[0m\u001b[0;34m:\u001b[0m\u001b[0;34m\u001b[0m\u001b[0;34m\u001b[0m\u001b[0m\n",
            "\u001b[0;32m/usr/local/lib/python3.10/dist-packages/pandas/io/parsers/readers.py\u001b[0m in \u001b[0;36m__init__\u001b[0;34m(self, f, engine, **kwds)\u001b[0m\n\u001b[1;32m   1618\u001b[0m \u001b[0;34m\u001b[0m\u001b[0m\n\u001b[1;32m   1619\u001b[0m         \u001b[0mself\u001b[0m\u001b[0;34m.\u001b[0m\u001b[0mhandles\u001b[0m\u001b[0;34m:\u001b[0m \u001b[0mIOHandles\u001b[0m \u001b[0;34m|\u001b[0m \u001b[0;32mNone\u001b[0m \u001b[0;34m=\u001b[0m \u001b[0;32mNone\u001b[0m\u001b[0;34m\u001b[0m\u001b[0;34m\u001b[0m\u001b[0m\n\u001b[0;32m-> 1620\u001b[0;31m         \u001b[0mself\u001b[0m\u001b[0;34m.\u001b[0m\u001b[0m_engine\u001b[0m \u001b[0;34m=\u001b[0m \u001b[0mself\u001b[0m\u001b[0;34m.\u001b[0m\u001b[0m_make_engine\u001b[0m\u001b[0;34m(\u001b[0m\u001b[0mf\u001b[0m\u001b[0;34m,\u001b[0m \u001b[0mself\u001b[0m\u001b[0;34m.\u001b[0m\u001b[0mengine\u001b[0m\u001b[0;34m)\u001b[0m\u001b[0;34m\u001b[0m\u001b[0;34m\u001b[0m\u001b[0m\n\u001b[0m\u001b[1;32m   1621\u001b[0m \u001b[0;34m\u001b[0m\u001b[0m\n\u001b[1;32m   1622\u001b[0m     \u001b[0;32mdef\u001b[0m \u001b[0mclose\u001b[0m\u001b[0;34m(\u001b[0m\u001b[0mself\u001b[0m\u001b[0;34m)\u001b[0m \u001b[0;34m->\u001b[0m \u001b[0;32mNone\u001b[0m\u001b[0;34m:\u001b[0m\u001b[0;34m\u001b[0m\u001b[0;34m\u001b[0m\u001b[0m\n",
            "\u001b[0;32m/usr/local/lib/python3.10/dist-packages/pandas/io/parsers/readers.py\u001b[0m in \u001b[0;36m_make_engine\u001b[0;34m(self, f, engine)\u001b[0m\n\u001b[1;32m   1896\u001b[0m \u001b[0;34m\u001b[0m\u001b[0m\n\u001b[1;32m   1897\u001b[0m         \u001b[0;32mtry\u001b[0m\u001b[0;34m:\u001b[0m\u001b[0;34m\u001b[0m\u001b[0;34m\u001b[0m\u001b[0m\n\u001b[0;32m-> 1898\u001b[0;31m             \u001b[0;32mreturn\u001b[0m \u001b[0mmapping\u001b[0m\u001b[0;34m[\u001b[0m\u001b[0mengine\u001b[0m\u001b[0;34m]\u001b[0m\u001b[0;34m(\u001b[0m\u001b[0mf\u001b[0m\u001b[0;34m,\u001b[0m \u001b[0;34m**\u001b[0m\u001b[0mself\u001b[0m\u001b[0;34m.\u001b[0m\u001b[0moptions\u001b[0m\u001b[0;34m)\u001b[0m\u001b[0;34m\u001b[0m\u001b[0;34m\u001b[0m\u001b[0m\n\u001b[0m\u001b[1;32m   1899\u001b[0m         \u001b[0;32mexcept\u001b[0m \u001b[0mException\u001b[0m\u001b[0;34m:\u001b[0m\u001b[0;34m\u001b[0m\u001b[0;34m\u001b[0m\u001b[0m\n\u001b[1;32m   1900\u001b[0m             \u001b[0;32mif\u001b[0m \u001b[0mself\u001b[0m\u001b[0;34m.\u001b[0m\u001b[0mhandles\u001b[0m \u001b[0;32mis\u001b[0m \u001b[0;32mnot\u001b[0m \u001b[0;32mNone\u001b[0m\u001b[0;34m:\u001b[0m\u001b[0;34m\u001b[0m\u001b[0;34m\u001b[0m\u001b[0m\n",
            "\u001b[0;32m/usr/local/lib/python3.10/dist-packages/pandas/io/parsers/c_parser_wrapper.py\u001b[0m in \u001b[0;36m__init__\u001b[0;34m(self, src, **kwds)\u001b[0m\n\u001b[1;32m     91\u001b[0m             \u001b[0;31m# Fail here loudly instead of in cython after reading\u001b[0m\u001b[0;34m\u001b[0m\u001b[0;34m\u001b[0m\u001b[0m\n\u001b[1;32m     92\u001b[0m             \u001b[0mimport_optional_dependency\u001b[0m\u001b[0;34m(\u001b[0m\u001b[0;34m\"pyarrow\"\u001b[0m\u001b[0;34m)\u001b[0m\u001b[0;34m\u001b[0m\u001b[0;34m\u001b[0m\u001b[0m\n\u001b[0;32m---> 93\u001b[0;31m         \u001b[0mself\u001b[0m\u001b[0;34m.\u001b[0m\u001b[0m_reader\u001b[0m \u001b[0;34m=\u001b[0m \u001b[0mparsers\u001b[0m\u001b[0;34m.\u001b[0m\u001b[0mTextReader\u001b[0m\u001b[0;34m(\u001b[0m\u001b[0msrc\u001b[0m\u001b[0;34m,\u001b[0m \u001b[0;34m**\u001b[0m\u001b[0mkwds\u001b[0m\u001b[0;34m)\u001b[0m\u001b[0;34m\u001b[0m\u001b[0;34m\u001b[0m\u001b[0m\n\u001b[0m\u001b[1;32m     94\u001b[0m \u001b[0;34m\u001b[0m\u001b[0m\n\u001b[1;32m     95\u001b[0m         \u001b[0mself\u001b[0m\u001b[0;34m.\u001b[0m\u001b[0munnamed_cols\u001b[0m \u001b[0;34m=\u001b[0m \u001b[0mself\u001b[0m\u001b[0;34m.\u001b[0m\u001b[0m_reader\u001b[0m\u001b[0;34m.\u001b[0m\u001b[0munnamed_cols\u001b[0m\u001b[0;34m\u001b[0m\u001b[0;34m\u001b[0m\u001b[0m\n",
            "\u001b[0;32mparsers.pyx\u001b[0m in \u001b[0;36mpandas._libs.parsers.TextReader.__cinit__\u001b[0;34m()\u001b[0m\n",
            "\u001b[0;31mEmptyDataError\u001b[0m: No columns to parse from file"
          ]
        }
      ]
    },
    {
      "cell_type": "code",
      "source": [
        "# 手动映射标签（根据你希望的顺序）\n",
        "label_mapping = {'low': 0, 'medium': 1, 'high': 2}\n",
        "\n",
        "# 使用 map 函数将 'label' 转换为对应的数字\n",
        "train_df['encoded_label'] = train_df['label'].map(label_mapping)\n",
        "\n",
        "# 打印映射后的结果\n",
        "print(train_df[['label', 'encoded_label']].head())\n"
      ],
      "metadata": {
        "colab": {
          "base_uri": "https://localhost:8080/"
        },
        "id": "2dDnvsYJWNBF",
        "outputId": "8a0ac564-0a6e-41d5-cb61-60734145574e"
      },
      "execution_count": null,
      "outputs": [
        {
          "output_type": "stream",
          "name": "stdout",
          "text": [
            "  label  encoded_label\n",
            "0   low              0\n",
            "1   low              0\n",
            "2   low              0\n",
            "3   low              0\n",
            "4   low              0\n"
          ]
        }
      ]
    },
    {
      "cell_type": "code",
      "source": [
        "oof = np.zeros(shape=(len(train_df),))\n",
        "oof = np.random.choice([0, 1, 2], size=len(train_df))\n"
      ],
      "metadata": {
        "id": "6BHlnfKXYCsO"
      },
      "execution_count": null,
      "outputs": []
    },
    {
      "cell_type": "code",
      "source": [
        "label_map = {'low': 0, 'medium': 1, 'high': 2}\n",
        "train_df['encoded_label'] = train_df['label'].map(label_map)\n",
        "\n",
        "# 调用 confusion_matrix\n",
        "cf_matrix = confusion_matrix(train_df['encoded_label'], oof)\n"
      ],
      "metadata": {
        "id": "13N4Dk6_YFbv"
      },
      "execution_count": null,
      "outputs": []
    },
    {
      "cell_type": "code",
      "source": [
        "# 将 'low', 'medium', 'high' 转换为 0, 1, 2\n",
        "label_map = {'low': 0, 'medium': 1, 'high': 2}\n",
        "train_df['encoded_label'] = train_df['label'].map(label_map)\n"
      ],
      "metadata": {
        "id": "sKJNgbgpYUtk"
      },
      "execution_count": null,
      "outputs": []
    },
    {
      "cell_type": "code",
      "source": [
        "import seaborn as sns\n",
        "import matplotlib.pyplot as plt\n",
        "import numpy as np\n",
        "import pandas as pd\n",
        "from sklearn.metrics import confusion_matrix\n",
        "import matplotlib\n",
        "\n",
        "oof[oof == 0] = 0\n",
        "\n",
        "oof[oof == 0] = 0  # Low quality\n",
        "oof[oof == 1] = 1  # Medium quality\n",
        "oof[oof == 2] = 2  # High quality\n",
        "\n",
        "# Create Confusion Matrix for 3-class classification\n",
        "cf_matrix = confusion_matrix(train_df['label'], oof)\n",
        "\n",
        "# Pretty CM:\n",
        "group_names = ['True Low', 'False Medium', 'False High', 'True Medium', 'False Low', 'True High', 'False Low', 'False Medium', 'True High']\n",
        "# Format of the absolute numbers\n",
        "group_counts = ['{:,}'.format(value) for value in cf_matrix.flatten()]\n",
        "# Format for relative numbers\n",
        "group_percentages = ['{0:.1%}'.format(value) for value in cf_matrix.flatten()/np.sum(cf_matrix)]\n",
        "\n",
        "labels = [f'{v1}\\n{v2}\\n{v3}' for v1, v2, v3 in zip(group_names, group_counts, group_percentages)]\n",
        "labels = np.asarray(labels).reshape(3, 3)\n",
        "\n",
        "# --- The figure ---\n",
        "plt.figure(figsize=(16, 5))\n",
        "sns.heatmap(cf_matrix, annot=labels, fmt='', cmap='Oranges', xticklabels=['Low', 'Medium', 'High'],\n",
        "            yticklabels=['Low', 'Medium', 'High'], cbar=False)\n",
        "\n",
        "matplotlib.rcParams.update({'font.size': 15})\n",
        "plt.tick_params(axis='both', labelsize=15)\n",
        "plt.title('Confusion Matrix: Tea Leaf Classification', fontsize=20)\n",
        "plt.show()\n"
      ],
      "metadata": {
        "colab": {
          "base_uri": "https://localhost:8080/",
          "height": 356
        },
        "id": "GnY3V2ivHn42",
        "outputId": "cf28b1ac-2c3b-4d90-fec8-2af14afb27f9"
      },
      "execution_count": null,
      "outputs": [
        {
          "output_type": "error",
          "ename": "ValueError",
          "evalue": "Mix of label input types (string and number)",
          "traceback": [
            "\u001b[0;31m---------------------------------------------------------------------------\u001b[0m",
            "\u001b[0;31mValueError\u001b[0m                                Traceback (most recent call last)",
            "\u001b[0;32m<ipython-input-30-09b299acbd10>\u001b[0m in \u001b[0;36m<cell line: 15>\u001b[0;34m()\u001b[0m\n\u001b[1;32m     13\u001b[0m \u001b[0;34m\u001b[0m\u001b[0m\n\u001b[1;32m     14\u001b[0m \u001b[0;31m# Create Confusion Matrix for 3-class classification\u001b[0m\u001b[0;34m\u001b[0m\u001b[0;34m\u001b[0m\u001b[0m\n\u001b[0;32m---> 15\u001b[0;31m \u001b[0mcf_matrix\u001b[0m \u001b[0;34m=\u001b[0m \u001b[0mconfusion_matrix\u001b[0m\u001b[0;34m(\u001b[0m\u001b[0mtrain_df\u001b[0m\u001b[0;34m[\u001b[0m\u001b[0;34m'label'\u001b[0m\u001b[0;34m]\u001b[0m\u001b[0;34m,\u001b[0m \u001b[0moof\u001b[0m\u001b[0;34m)\u001b[0m\u001b[0;34m\u001b[0m\u001b[0;34m\u001b[0m\u001b[0m\n\u001b[0m\u001b[1;32m     16\u001b[0m \u001b[0;34m\u001b[0m\u001b[0m\n\u001b[1;32m     17\u001b[0m \u001b[0;31m# Pretty CM:\u001b[0m\u001b[0;34m\u001b[0m\u001b[0;34m\u001b[0m\u001b[0m\n",
            "\u001b[0;32m/usr/local/lib/python3.10/dist-packages/sklearn/utils/_param_validation.py\u001b[0m in \u001b[0;36mwrapper\u001b[0;34m(*args, **kwargs)\u001b[0m\n\u001b[1;32m    214\u001b[0m                     )\n\u001b[1;32m    215\u001b[0m                 ):\n\u001b[0;32m--> 216\u001b[0;31m                     \u001b[0;32mreturn\u001b[0m \u001b[0mfunc\u001b[0m\u001b[0;34m(\u001b[0m\u001b[0;34m*\u001b[0m\u001b[0margs\u001b[0m\u001b[0;34m,\u001b[0m \u001b[0;34m**\u001b[0m\u001b[0mkwargs\u001b[0m\u001b[0;34m)\u001b[0m\u001b[0;34m\u001b[0m\u001b[0;34m\u001b[0m\u001b[0m\n\u001b[0m\u001b[1;32m    217\u001b[0m             \u001b[0;32mexcept\u001b[0m \u001b[0mInvalidParameterError\u001b[0m \u001b[0;32mas\u001b[0m \u001b[0me\u001b[0m\u001b[0;34m:\u001b[0m\u001b[0;34m\u001b[0m\u001b[0;34m\u001b[0m\u001b[0m\n\u001b[1;32m    218\u001b[0m                 \u001b[0;31m# When the function is just a wrapper around an estimator, we allow\u001b[0m\u001b[0;34m\u001b[0m\u001b[0;34m\u001b[0m\u001b[0m\n",
            "\u001b[0;32m/usr/local/lib/python3.10/dist-packages/sklearn/metrics/_classification.py\u001b[0m in \u001b[0;36mconfusion_matrix\u001b[0;34m(y_true, y_pred, labels, sample_weight, normalize)\u001b[0m\n\u001b[1;32m    343\u001b[0m \u001b[0;34m\u001b[0m\u001b[0m\n\u001b[1;32m    344\u001b[0m     \u001b[0;32mif\u001b[0m \u001b[0mlabels\u001b[0m \u001b[0;32mis\u001b[0m \u001b[0;32mNone\u001b[0m\u001b[0;34m:\u001b[0m\u001b[0;34m\u001b[0m\u001b[0;34m\u001b[0m\u001b[0m\n\u001b[0;32m--> 345\u001b[0;31m         \u001b[0mlabels\u001b[0m \u001b[0;34m=\u001b[0m \u001b[0munique_labels\u001b[0m\u001b[0;34m(\u001b[0m\u001b[0my_true\u001b[0m\u001b[0;34m,\u001b[0m \u001b[0my_pred\u001b[0m\u001b[0;34m)\u001b[0m\u001b[0;34m\u001b[0m\u001b[0;34m\u001b[0m\u001b[0m\n\u001b[0m\u001b[1;32m    346\u001b[0m     \u001b[0;32melse\u001b[0m\u001b[0;34m:\u001b[0m\u001b[0;34m\u001b[0m\u001b[0;34m\u001b[0m\u001b[0m\n\u001b[1;32m    347\u001b[0m         \u001b[0mlabels\u001b[0m \u001b[0;34m=\u001b[0m \u001b[0mnp\u001b[0m\u001b[0;34m.\u001b[0m\u001b[0masarray\u001b[0m\u001b[0;34m(\u001b[0m\u001b[0mlabels\u001b[0m\u001b[0;34m)\u001b[0m\u001b[0;34m\u001b[0m\u001b[0;34m\u001b[0m\u001b[0m\n",
            "\u001b[0;32m/usr/local/lib/python3.10/dist-packages/sklearn/utils/multiclass.py\u001b[0m in \u001b[0;36munique_labels\u001b[0;34m(*ys)\u001b[0m\n\u001b[1;32m    115\u001b[0m     \u001b[0;31m# Check that we don't mix string type with number type\u001b[0m\u001b[0;34m\u001b[0m\u001b[0;34m\u001b[0m\u001b[0m\n\u001b[1;32m    116\u001b[0m     \u001b[0;32mif\u001b[0m \u001b[0mlen\u001b[0m\u001b[0;34m(\u001b[0m\u001b[0mset\u001b[0m\u001b[0;34m(\u001b[0m\u001b[0misinstance\u001b[0m\u001b[0;34m(\u001b[0m\u001b[0mlabel\u001b[0m\u001b[0;34m,\u001b[0m \u001b[0mstr\u001b[0m\u001b[0;34m)\u001b[0m \u001b[0;32mfor\u001b[0m \u001b[0mlabel\u001b[0m \u001b[0;32min\u001b[0m \u001b[0mys_labels\u001b[0m\u001b[0;34m)\u001b[0m\u001b[0;34m)\u001b[0m \u001b[0;34m>\u001b[0m \u001b[0;36m1\u001b[0m\u001b[0;34m:\u001b[0m\u001b[0;34m\u001b[0m\u001b[0;34m\u001b[0m\u001b[0m\n\u001b[0;32m--> 117\u001b[0;31m         \u001b[0;32mraise\u001b[0m \u001b[0mValueError\u001b[0m\u001b[0;34m(\u001b[0m\u001b[0;34m\"Mix of label input types (string and number)\"\u001b[0m\u001b[0;34m)\u001b[0m\u001b[0;34m\u001b[0m\u001b[0;34m\u001b[0m\u001b[0m\n\u001b[0m\u001b[1;32m    118\u001b[0m \u001b[0;34m\u001b[0m\u001b[0m\n\u001b[1;32m    119\u001b[0m     \u001b[0;32mreturn\u001b[0m \u001b[0mxp\u001b[0m\u001b[0;34m.\u001b[0m\u001b[0masarray\u001b[0m\u001b[0;34m(\u001b[0m\u001b[0msorted\u001b[0m\u001b[0;34m(\u001b[0m\u001b[0mys_labels\u001b[0m\u001b[0;34m)\u001b[0m\u001b[0;34m)\u001b[0m\u001b[0;34m\u001b[0m\u001b[0;34m\u001b[0m\u001b[0m\n",
            "\u001b[0;31mValueError\u001b[0m: Mix of label input types (string and number)"
          ]
        }
      ]
    },
    {
      "cell_type": "code",
      "source": [
        "print(len(train_df['label']))\n",
        "print(oof.shape)\n",
        "\n",
        "train_df = train_df.dropna(subset=['label'])\n",
        "\n",
        "train_df['label'] = train_df['label'].astype(int)\n",
        "oof = oof.astype(int)\n",
        "\n",
        "# 生成混淆矩阵\n",
        "cf_matrix = confusion_matrix(train_df['label'], oof)\n",
        "\n",
        "# 输出混淆矩阵\n",
        "print(cf_matrix)\n",
        "\n",
        "# 可视化混淆矩阵\n",
        "import seaborn as sns\n",
        "import matplotlib.pyplot as plt\n",
        "\n",
        "sns.heatmap(cf_matrix, annot=True, fmt='d', cmap='Blues', xticklabels=['Class 0', 'Class 1', 'Class 2'],\n",
        "            yticklabels=['Class 0', 'Class 1', 'Class 2'])\n",
        "plt.title('Confusion Matrix')\n",
        "plt.show()\n"
      ],
      "metadata": {
        "colab": {
          "base_uri": "https://localhost:8080/",
          "height": 391
        },
        "id": "JcVNQ9VJJUQb",
        "outputId": "958b96e9-c9c9-47ad-d60b-f42fd953a6ce"
      },
      "execution_count": null,
      "outputs": [
        {
          "output_type": "stream",
          "name": "stdout",
          "text": [
            "389\n",
            "(0,)\n"
          ]
        },
        {
          "output_type": "error",
          "ename": "ValueError",
          "evalue": "invalid literal for int() with base 10: 'low'",
          "traceback": [
            "\u001b[0;31m---------------------------------------------------------------------------\u001b[0m",
            "\u001b[0;31mValueError\u001b[0m                                Traceback (most recent call last)",
            "\u001b[0;32m<ipython-input-88-144839455f4f>\u001b[0m in \u001b[0;36m<cell line: 12>\u001b[0;34m()\u001b[0m\n\u001b[1;32m     10\u001b[0m \u001b[0;34m\u001b[0m\u001b[0m\n\u001b[1;32m     11\u001b[0m \u001b[0;31m# 确保数据是正确的类型\u001b[0m\u001b[0;34m\u001b[0m\u001b[0;34m\u001b[0m\u001b[0m\n\u001b[0;32m---> 12\u001b[0;31m \u001b[0mtrain_df\u001b[0m\u001b[0;34m[\u001b[0m\u001b[0;34m'label'\u001b[0m\u001b[0;34m]\u001b[0m \u001b[0;34m=\u001b[0m \u001b[0mtrain_df\u001b[0m\u001b[0;34m[\u001b[0m\u001b[0;34m'label'\u001b[0m\u001b[0;34m]\u001b[0m\u001b[0;34m.\u001b[0m\u001b[0mastype\u001b[0m\u001b[0;34m(\u001b[0m\u001b[0mint\u001b[0m\u001b[0;34m)\u001b[0m\u001b[0;34m\u001b[0m\u001b[0;34m\u001b[0m\u001b[0m\n\u001b[0m\u001b[1;32m     13\u001b[0m \u001b[0moof\u001b[0m \u001b[0;34m=\u001b[0m \u001b[0moof\u001b[0m\u001b[0;34m.\u001b[0m\u001b[0mastype\u001b[0m\u001b[0;34m(\u001b[0m\u001b[0mint\u001b[0m\u001b[0;34m)\u001b[0m\u001b[0;34m\u001b[0m\u001b[0;34m\u001b[0m\u001b[0m\n\u001b[1;32m     14\u001b[0m \u001b[0;34m\u001b[0m\u001b[0m\n",
            "\u001b[0;32m/usr/local/lib/python3.10/dist-packages/pandas/core/generic.py\u001b[0m in \u001b[0;36mastype\u001b[0;34m(self, dtype, copy, errors)\u001b[0m\n\u001b[1;32m   6641\u001b[0m         \u001b[0;32melse\u001b[0m\u001b[0;34m:\u001b[0m\u001b[0;34m\u001b[0m\u001b[0;34m\u001b[0m\u001b[0m\n\u001b[1;32m   6642\u001b[0m             \u001b[0;31m# else, only a single dtype is given\u001b[0m\u001b[0;34m\u001b[0m\u001b[0;34m\u001b[0m\u001b[0m\n\u001b[0;32m-> 6643\u001b[0;31m             \u001b[0mnew_data\u001b[0m \u001b[0;34m=\u001b[0m \u001b[0mself\u001b[0m\u001b[0;34m.\u001b[0m\u001b[0m_mgr\u001b[0m\u001b[0;34m.\u001b[0m\u001b[0mastype\u001b[0m\u001b[0;34m(\u001b[0m\u001b[0mdtype\u001b[0m\u001b[0;34m=\u001b[0m\u001b[0mdtype\u001b[0m\u001b[0;34m,\u001b[0m \u001b[0mcopy\u001b[0m\u001b[0;34m=\u001b[0m\u001b[0mcopy\u001b[0m\u001b[0;34m,\u001b[0m \u001b[0merrors\u001b[0m\u001b[0;34m=\u001b[0m\u001b[0merrors\u001b[0m\u001b[0;34m)\u001b[0m\u001b[0;34m\u001b[0m\u001b[0;34m\u001b[0m\u001b[0m\n\u001b[0m\u001b[1;32m   6644\u001b[0m             \u001b[0mres\u001b[0m \u001b[0;34m=\u001b[0m \u001b[0mself\u001b[0m\u001b[0;34m.\u001b[0m\u001b[0m_constructor_from_mgr\u001b[0m\u001b[0;34m(\u001b[0m\u001b[0mnew_data\u001b[0m\u001b[0;34m,\u001b[0m \u001b[0maxes\u001b[0m\u001b[0;34m=\u001b[0m\u001b[0mnew_data\u001b[0m\u001b[0;34m.\u001b[0m\u001b[0maxes\u001b[0m\u001b[0;34m)\u001b[0m\u001b[0;34m\u001b[0m\u001b[0;34m\u001b[0m\u001b[0m\n\u001b[1;32m   6645\u001b[0m             \u001b[0;32mreturn\u001b[0m \u001b[0mres\u001b[0m\u001b[0;34m.\u001b[0m\u001b[0m__finalize__\u001b[0m\u001b[0;34m(\u001b[0m\u001b[0mself\u001b[0m\u001b[0;34m,\u001b[0m \u001b[0mmethod\u001b[0m\u001b[0;34m=\u001b[0m\u001b[0;34m\"astype\"\u001b[0m\u001b[0;34m)\u001b[0m\u001b[0;34m\u001b[0m\u001b[0;34m\u001b[0m\u001b[0m\n",
            "\u001b[0;32m/usr/local/lib/python3.10/dist-packages/pandas/core/internals/managers.py\u001b[0m in \u001b[0;36mastype\u001b[0;34m(self, dtype, copy, errors)\u001b[0m\n\u001b[1;32m    428\u001b[0m             \u001b[0mcopy\u001b[0m \u001b[0;34m=\u001b[0m \u001b[0;32mFalse\u001b[0m\u001b[0;34m\u001b[0m\u001b[0;34m\u001b[0m\u001b[0m\n\u001b[1;32m    429\u001b[0m \u001b[0;34m\u001b[0m\u001b[0m\n\u001b[0;32m--> 430\u001b[0;31m         return self.apply(\n\u001b[0m\u001b[1;32m    431\u001b[0m             \u001b[0;34m\"astype\"\u001b[0m\u001b[0;34m,\u001b[0m\u001b[0;34m\u001b[0m\u001b[0;34m\u001b[0m\u001b[0m\n\u001b[1;32m    432\u001b[0m             \u001b[0mdtype\u001b[0m\u001b[0;34m=\u001b[0m\u001b[0mdtype\u001b[0m\u001b[0;34m,\u001b[0m\u001b[0;34m\u001b[0m\u001b[0;34m\u001b[0m\u001b[0m\n",
            "\u001b[0;32m/usr/local/lib/python3.10/dist-packages/pandas/core/internals/managers.py\u001b[0m in \u001b[0;36mapply\u001b[0;34m(self, f, align_keys, **kwargs)\u001b[0m\n\u001b[1;32m    361\u001b[0m                 \u001b[0mapplied\u001b[0m \u001b[0;34m=\u001b[0m \u001b[0mb\u001b[0m\u001b[0;34m.\u001b[0m\u001b[0mapply\u001b[0m\u001b[0;34m(\u001b[0m\u001b[0mf\u001b[0m\u001b[0;34m,\u001b[0m \u001b[0;34m**\u001b[0m\u001b[0mkwargs\u001b[0m\u001b[0;34m)\u001b[0m\u001b[0;34m\u001b[0m\u001b[0;34m\u001b[0m\u001b[0m\n\u001b[1;32m    362\u001b[0m             \u001b[0;32melse\u001b[0m\u001b[0;34m:\u001b[0m\u001b[0;34m\u001b[0m\u001b[0;34m\u001b[0m\u001b[0m\n\u001b[0;32m--> 363\u001b[0;31m                 \u001b[0mapplied\u001b[0m \u001b[0;34m=\u001b[0m \u001b[0mgetattr\u001b[0m\u001b[0;34m(\u001b[0m\u001b[0mb\u001b[0m\u001b[0;34m,\u001b[0m \u001b[0mf\u001b[0m\u001b[0;34m)\u001b[0m\u001b[0;34m(\u001b[0m\u001b[0;34m**\u001b[0m\u001b[0mkwargs\u001b[0m\u001b[0;34m)\u001b[0m\u001b[0;34m\u001b[0m\u001b[0;34m\u001b[0m\u001b[0m\n\u001b[0m\u001b[1;32m    364\u001b[0m             \u001b[0mresult_blocks\u001b[0m \u001b[0;34m=\u001b[0m \u001b[0mextend_blocks\u001b[0m\u001b[0;34m(\u001b[0m\u001b[0mapplied\u001b[0m\u001b[0;34m,\u001b[0m \u001b[0mresult_blocks\u001b[0m\u001b[0;34m)\u001b[0m\u001b[0;34m\u001b[0m\u001b[0;34m\u001b[0m\u001b[0m\n\u001b[1;32m    365\u001b[0m \u001b[0;34m\u001b[0m\u001b[0m\n",
            "\u001b[0;32m/usr/local/lib/python3.10/dist-packages/pandas/core/internals/blocks.py\u001b[0m in \u001b[0;36mastype\u001b[0;34m(self, dtype, copy, errors, using_cow, squeeze)\u001b[0m\n\u001b[1;32m    756\u001b[0m             \u001b[0mvalues\u001b[0m \u001b[0;34m=\u001b[0m \u001b[0mvalues\u001b[0m\u001b[0;34m[\u001b[0m\u001b[0;36m0\u001b[0m\u001b[0;34m,\u001b[0m \u001b[0;34m:\u001b[0m\u001b[0;34m]\u001b[0m  \u001b[0;31m# type: ignore[call-overload]\u001b[0m\u001b[0;34m\u001b[0m\u001b[0;34m\u001b[0m\u001b[0m\n\u001b[1;32m    757\u001b[0m \u001b[0;34m\u001b[0m\u001b[0m\n\u001b[0;32m--> 758\u001b[0;31m         \u001b[0mnew_values\u001b[0m \u001b[0;34m=\u001b[0m \u001b[0mastype_array_safe\u001b[0m\u001b[0;34m(\u001b[0m\u001b[0mvalues\u001b[0m\u001b[0;34m,\u001b[0m \u001b[0mdtype\u001b[0m\u001b[0;34m,\u001b[0m \u001b[0mcopy\u001b[0m\u001b[0;34m=\u001b[0m\u001b[0mcopy\u001b[0m\u001b[0;34m,\u001b[0m \u001b[0merrors\u001b[0m\u001b[0;34m=\u001b[0m\u001b[0merrors\u001b[0m\u001b[0;34m)\u001b[0m\u001b[0;34m\u001b[0m\u001b[0;34m\u001b[0m\u001b[0m\n\u001b[0m\u001b[1;32m    759\u001b[0m \u001b[0;34m\u001b[0m\u001b[0m\n\u001b[1;32m    760\u001b[0m         \u001b[0mnew_values\u001b[0m \u001b[0;34m=\u001b[0m \u001b[0mmaybe_coerce_values\u001b[0m\u001b[0;34m(\u001b[0m\u001b[0mnew_values\u001b[0m\u001b[0;34m)\u001b[0m\u001b[0;34m\u001b[0m\u001b[0;34m\u001b[0m\u001b[0m\n",
            "\u001b[0;32m/usr/local/lib/python3.10/dist-packages/pandas/core/dtypes/astype.py\u001b[0m in \u001b[0;36mastype_array_safe\u001b[0;34m(values, dtype, copy, errors)\u001b[0m\n\u001b[1;32m    235\u001b[0m \u001b[0;34m\u001b[0m\u001b[0m\n\u001b[1;32m    236\u001b[0m     \u001b[0;32mtry\u001b[0m\u001b[0;34m:\u001b[0m\u001b[0;34m\u001b[0m\u001b[0;34m\u001b[0m\u001b[0m\n\u001b[0;32m--> 237\u001b[0;31m         \u001b[0mnew_values\u001b[0m \u001b[0;34m=\u001b[0m \u001b[0mastype_array\u001b[0m\u001b[0;34m(\u001b[0m\u001b[0mvalues\u001b[0m\u001b[0;34m,\u001b[0m \u001b[0mdtype\u001b[0m\u001b[0;34m,\u001b[0m \u001b[0mcopy\u001b[0m\u001b[0;34m=\u001b[0m\u001b[0mcopy\u001b[0m\u001b[0;34m)\u001b[0m\u001b[0;34m\u001b[0m\u001b[0;34m\u001b[0m\u001b[0m\n\u001b[0m\u001b[1;32m    238\u001b[0m     \u001b[0;32mexcept\u001b[0m \u001b[0;34m(\u001b[0m\u001b[0mValueError\u001b[0m\u001b[0;34m,\u001b[0m \u001b[0mTypeError\u001b[0m\u001b[0;34m)\u001b[0m\u001b[0;34m:\u001b[0m\u001b[0;34m\u001b[0m\u001b[0;34m\u001b[0m\u001b[0m\n\u001b[1;32m    239\u001b[0m         \u001b[0;31m# e.g. _astype_nansafe can fail on object-dtype of strings\u001b[0m\u001b[0;34m\u001b[0m\u001b[0;34m\u001b[0m\u001b[0m\n",
            "\u001b[0;32m/usr/local/lib/python3.10/dist-packages/pandas/core/dtypes/astype.py\u001b[0m in \u001b[0;36mastype_array\u001b[0;34m(values, dtype, copy)\u001b[0m\n\u001b[1;32m    180\u001b[0m \u001b[0;34m\u001b[0m\u001b[0m\n\u001b[1;32m    181\u001b[0m     \u001b[0;32melse\u001b[0m\u001b[0;34m:\u001b[0m\u001b[0;34m\u001b[0m\u001b[0;34m\u001b[0m\u001b[0m\n\u001b[0;32m--> 182\u001b[0;31m         \u001b[0mvalues\u001b[0m \u001b[0;34m=\u001b[0m \u001b[0m_astype_nansafe\u001b[0m\u001b[0;34m(\u001b[0m\u001b[0mvalues\u001b[0m\u001b[0;34m,\u001b[0m \u001b[0mdtype\u001b[0m\u001b[0;34m,\u001b[0m \u001b[0mcopy\u001b[0m\u001b[0;34m=\u001b[0m\u001b[0mcopy\u001b[0m\u001b[0;34m)\u001b[0m\u001b[0;34m\u001b[0m\u001b[0;34m\u001b[0m\u001b[0m\n\u001b[0m\u001b[1;32m    183\u001b[0m \u001b[0;34m\u001b[0m\u001b[0m\n\u001b[1;32m    184\u001b[0m     \u001b[0;31m# in pandas we don't store numpy str dtypes, so convert to object\u001b[0m\u001b[0;34m\u001b[0m\u001b[0;34m\u001b[0m\u001b[0m\n",
            "\u001b[0;32m/usr/local/lib/python3.10/dist-packages/pandas/core/dtypes/astype.py\u001b[0m in \u001b[0;36m_astype_nansafe\u001b[0;34m(arr, dtype, copy, skipna)\u001b[0m\n\u001b[1;32m    131\u001b[0m     \u001b[0;32mif\u001b[0m \u001b[0mcopy\u001b[0m \u001b[0;32mor\u001b[0m \u001b[0marr\u001b[0m\u001b[0;34m.\u001b[0m\u001b[0mdtype\u001b[0m \u001b[0;34m==\u001b[0m \u001b[0mobject\u001b[0m \u001b[0;32mor\u001b[0m \u001b[0mdtype\u001b[0m \u001b[0;34m==\u001b[0m \u001b[0mobject\u001b[0m\u001b[0;34m:\u001b[0m\u001b[0;34m\u001b[0m\u001b[0;34m\u001b[0m\u001b[0m\n\u001b[1;32m    132\u001b[0m         \u001b[0;31m# Explicit copy, or required since NumPy can't view from / to object.\u001b[0m\u001b[0;34m\u001b[0m\u001b[0;34m\u001b[0m\u001b[0m\n\u001b[0;32m--> 133\u001b[0;31m         \u001b[0;32mreturn\u001b[0m \u001b[0marr\u001b[0m\u001b[0;34m.\u001b[0m\u001b[0mastype\u001b[0m\u001b[0;34m(\u001b[0m\u001b[0mdtype\u001b[0m\u001b[0;34m,\u001b[0m \u001b[0mcopy\u001b[0m\u001b[0;34m=\u001b[0m\u001b[0;32mTrue\u001b[0m\u001b[0;34m)\u001b[0m\u001b[0;34m\u001b[0m\u001b[0;34m\u001b[0m\u001b[0m\n\u001b[0m\u001b[1;32m    134\u001b[0m \u001b[0;34m\u001b[0m\u001b[0m\n\u001b[1;32m    135\u001b[0m     \u001b[0;32mreturn\u001b[0m \u001b[0marr\u001b[0m\u001b[0;34m.\u001b[0m\u001b[0mastype\u001b[0m\u001b[0;34m(\u001b[0m\u001b[0mdtype\u001b[0m\u001b[0;34m,\u001b[0m \u001b[0mcopy\u001b[0m\u001b[0;34m=\u001b[0m\u001b[0mcopy\u001b[0m\u001b[0;34m)\u001b[0m\u001b[0;34m\u001b[0m\u001b[0;34m\u001b[0m\u001b[0m\n",
            "\u001b[0;31mValueError\u001b[0m: invalid literal for int() with base 10: 'low'"
          ]
        }
      ]
    },
    {
      "cell_type": "code",
      "source": [
        "# 查看 train_df 的前几行，确保数据被正确加载\n",
        "print(train_df.head())\n",
        "\n",
        "# 检查 train_df['label'] 是否为空\n",
        "print(train_df['label'].isna().sum())  # 如果返回大于0，说明有缺失值\n"
      ],
      "metadata": {
        "colab": {
          "base_uri": "https://localhost:8080/"
        },
        "id": "9jsmJObOJqt_",
        "outputId": "7614eb9c-e97a-4223-ec9c-e44cfc496f9e"
      },
      "execution_count": null,
      "outputs": [
        {
          "output_type": "stream",
          "name": "stdout",
          "text": [
            "                                          image_path label      filename  \\\n",
            "0  D:\\HuaweiMoveData\\Users\\35045\\Desktop\\train_te...   low  IMG_3817.jpg   \n",
            "1  D:\\HuaweiMoveData\\Users\\35045\\Desktop\\train_te...   low  IMG_3818.jpg   \n",
            "2  D:\\HuaweiMoveData\\Users\\35045\\Desktop\\train_te...   low  IMG_3819.jpg   \n",
            "3  D:\\HuaweiMoveData\\Users\\35045\\Desktop\\train_te...   low  IMG_3820.jpg   \n",
            "4  D:\\HuaweiMoveData\\Users\\35045\\Desktop\\train_te...   low  IMG_3821.jpg   \n",
            "\n",
            "                         path_jpg  encoded_label  \n",
            "0  /content/trainIMG_3817.jpg.jpg              0  \n",
            "1  /content/trainIMG_3818.jpg.jpg              0  \n",
            "2  /content/trainIMG_3819.jpg.jpg              0  \n",
            "3  /content/trainIMG_3820.jpg.jpg              0  \n",
            "4  /content/trainIMG_3821.jpg.jpg              0  \n",
            "0\n"
          ]
        }
      ]
    },
    {
      "cell_type": "code",
      "source": [
        "# 查看列名\n",
        "print(train_df.columns)\n",
        "\n",
        "# 确保列名是 'label'\n",
        "if 'label' not in train_df.columns:\n",
        "    print(\"Label column is missing or has a different name!\")\n"
      ],
      "metadata": {
        "colab": {
          "base_uri": "https://localhost:8080/"
        },
        "id": "b_wnZLMTJtLR",
        "outputId": "68ee8c63-e487-47ad-df27-bdeb47c68d10"
      },
      "execution_count": null,
      "outputs": [
        {
          "output_type": "stream",
          "name": "stdout",
          "text": [
            "Index(['image_path', 'label', 'filename', 'path_jpg', 'encoded_label'], dtype='object')\n"
          ]
        }
      ]
    },
    {
      "cell_type": "code",
      "source": [
        "# 检查 train_df['label'] 的长度\n",
        "print(len(train_df['label']))\n",
        "\n",
        "# 检查 oof 的长度\n",
        "print(oof.shape)\n"
      ],
      "metadata": {
        "colab": {
          "base_uri": "https://localhost:8080/"
        },
        "id": "vK-h9q6JJugV",
        "outputId": "9880708e-66f6-4541-c7e6-c763294bb13c"
      },
      "execution_count": null,
      "outputs": [
        {
          "output_type": "stream",
          "name": "stdout",
          "text": [
            "389\n",
            "(389,)\n"
          ]
        }
      ]
    },
    {
      "cell_type": "code",
      "source": [
        "#模拟了一些数据\n",
        "oof = np.random.choice([0, 1, 2], size=len(train_df))\n",
        "print(oof.dtype)\n",
        "print(oof.shape)\n"
      ],
      "metadata": {
        "colab": {
          "base_uri": "https://localhost:8080/"
        },
        "id": "ySriLG2AYsrl",
        "outputId": "ed7ed289-3e93-43a2-d3da-9d183c73cd71"
      },
      "execution_count": null,
      "outputs": [
        {
          "output_type": "stream",
          "name": "stdout",
          "text": [
            "int64\n",
            "(389,)\n"
          ]
        }
      ]
    },
    {
      "cell_type": "code",
      "source": [
        "from sklearn.metrics import confusion_matrix\n",
        "\n",
        "# 计算混淆矩阵\n",
        "cf_matrix = confusion_matrix(train_df['encoded_label'], oof)\n",
        "\n",
        "# 输出混淆矩阵\n",
        "print(\"Confusion Matrix:\")\n",
        "print(cf_matrix)\n"
      ],
      "metadata": {
        "colab": {
          "base_uri": "https://localhost:8080/"
        },
        "id": "S5kVPyjXJJ09",
        "outputId": "44cccda9-b66b-4465-a1b5-171b8933da6a"
      },
      "execution_count": null,
      "outputs": [
        {
          "output_type": "stream",
          "name": "stdout",
          "text": [
            "Confusion Matrix:\n",
            "[[32 39 41]\n",
            " [49 46 49]\n",
            " [37 54 42]]\n"
          ]
        }
      ]
    },
    {
      "cell_type": "code",
      "source": [
        "from sklearn.metrics import classification_report\n",
        "\n",
        "# 打印分类报告\n",
        "report = classification_report(train_df['encoded_label'], oof, target_names=[\"low\", \"medium\", \"high\"])\n",
        "print(\"Classification Report:\\n\", report)\n"
      ],
      "metadata": {
        "colab": {
          "base_uri": "https://localhost:8080/"
        },
        "id": "hhx6dAdbY0kp",
        "outputId": "d70b9f9f-a20a-4d5c-f3d6-be6f5bf37473"
      },
      "execution_count": null,
      "outputs": [
        {
          "output_type": "stream",
          "name": "stdout",
          "text": [
            "Classification Report:\n",
            "               precision    recall  f1-score   support\n",
            "\n",
            "         low       0.27      0.29      0.28       112\n",
            "      medium       0.33      0.32      0.33       144\n",
            "        high       0.32      0.32      0.32       133\n",
            "\n",
            "    accuracy                           0.31       389\n",
            "   macro avg       0.31      0.31      0.31       389\n",
            "weighted avg       0.31      0.31      0.31       389\n",
            "\n"
          ]
        }
      ]
    },
    {
      "cell_type": "code",
      "source": [
        "import seaborn as sns\n",
        "import matplotlib.pyplot as plt\n",
        "\n",
        "# 绘制热力图\n",
        "plt.figure(figsize=(8, 6))\n",
        "sns.heatmap(cf_matrix, annot=True, fmt='d', cmap='Blues', xticklabels=[\"low\", \"medium\", \"high\"], yticklabels=[\"low\", \"medium\", \"high\"])\n",
        "plt.xlabel('Predicted')\n",
        "plt.ylabel('True')\n",
        "plt.title('Confusion Matrix')\n",
        "plt.show()\n"
      ],
      "metadata": {
        "colab": {
          "base_uri": "https://localhost:8080/",
          "height": 564
        },
        "id": "_lNGt5ZnY1mC",
        "outputId": "198930ba-e32b-48b4-820c-785a163a9a98"
      },
      "execution_count": null,
      "outputs": [
        {
          "output_type": "display_data",
          "data": {
            "text/plain": [
              "<Figure size 800x600 with 2 Axes>"
            ],
            "image/png": "[encoded data removed]"
          },
          "metadata": {}
        }
      ]
    }
  ]
}